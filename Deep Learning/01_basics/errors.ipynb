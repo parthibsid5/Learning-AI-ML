{
 "cells": [
  {
   "cell_type": "markdown",
   "metadata": {},
   "source": [
    "Tensorflow loss value examples\n",
    "* sparse_categorical_crossentropy\n",
    "* binary_crossentropy or log loss\n",
    "* categorical_crossentropy\n",
    "* mean_squared_error\n",
    "* mean_absolute_error"
   ]
  },
  {
   "cell_type": "code",
   "execution_count": 11,
   "metadata": {},
   "outputs": [],
   "source": [
    "import numpy as np\n",
    "y_predicted=np.array([6,62,63,70,80])\n",
    "y_true=np.array([70,52,60,73,88])"
   ]
  },
  {
   "cell_type": "code",
   "execution_count": 14,
   "metadata": {},
   "outputs": [
    {
     "name": "stdout",
     "output_type": "stream",
     "text": [
      "Total error :  88\n",
      "17.6\n"
     ]
    }
   ],
   "source": [
    "def mean_absolute_error(y_true,y_predicted):\n",
    "    total=0\n",
    "    for (yt,yp) in zip(y_true, y_predicted):\n",
    "        total+=abs(yt-yp)\n",
    "    print(\"Total error : \",total)\n",
    "    mae=total/(len(y_true))\n",
    "    print(mae)\n",
    "mean_absolute_error(y_true,y_predicted)\n"
   ]
  },
  {
   "cell_type": "code",
   "execution_count": 15,
   "metadata": {},
   "outputs": [
    {
     "data": {
      "text/plain": [
       "17.6"
      ]
     },
     "execution_count": 15,
     "metadata": {},
     "output_type": "execute_result"
    }
   ],
   "source": [
    "# But using numpy we can just do in 1 line!\n",
    "np.mean(np.abs(y_true-y_predicted))"
   ]
  }
 ],
 "metadata": {
  "kernelspec": {
   "display_name": "Python 3",
   "language": "python",
   "name": "python3"
  },
  "language_info": {
   "codemirror_mode": {
    "name": "ipython",
    "version": 3
   },
   "file_extension": ".py",
   "mimetype": "text/x-python",
   "name": "python",
   "nbconvert_exporter": "python",
   "pygments_lexer": "ipython3",
   "version": "3.10.13"
  }
 },
 "nbformat": 4,
 "nbformat_minor": 2
}
